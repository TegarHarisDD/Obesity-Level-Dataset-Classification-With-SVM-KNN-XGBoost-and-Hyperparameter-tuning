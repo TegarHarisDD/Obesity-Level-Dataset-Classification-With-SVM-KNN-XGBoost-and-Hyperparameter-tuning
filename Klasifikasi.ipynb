{
 "cells": [
  {
   "cell_type": "markdown",
   "id": "introduction",
   "metadata": {},
   "source": [
    "# Proyek Klasifikasi Obesitas\n",
    "\n",
    "**Nama:** Tegar Haris DD  \n",
    "**NIM:** A11.2022.14428  \n",
    "**Kelas:** DS05\n",
    "\n",
    "## Pendahuluan\n",
    "Notebook ini berisi implementasi model klasifikasi untuk memprediksi tingkat obesitas berdasarkan berbagai fitur seperti umur, tinggi badan, berat badan, dan kebiasaan hidup. Tiga model klasifikasi yang digunakan adalah KNN, SVM, dan XGBoost.\n",
    "\n",
    "## Struktur Notebook\n",
    "1. Import library\n",
    "2. Persiapan data\n",
    "3. Pembuatan model klasifikasi default\n",
    "4. Evaluasi model default\n",
    "5. Hyperparameter tuning\n",
    "6. Evaluasi model setelah tuning\n",
    "7. Menyimpan model dan informasi terkait"
   ]
  },
  {
   "cell_type": "markdown",
   "id": "import-libraries",
   "metadata": {},
   "source": [
    "## 1. Import Library\n",
    "\n",
    "Berikut library yang akan digunakan dalam proyek ini:\n",
    "- `pandas` & `numpy`: Untuk manipulasi data\n",
    "- `sklearn`: Untuk pembuatan model, pembagian data, dan evaluasi\n",
    "- `xgboost`: Untuk model XGBoost\n",
    "- `imblearn`: Untuk mengatasi ketidakseimbangan kelas dengan SMOTE"
   ]
  },
  {
   "cell_type": "code",
   "execution_count": 11,
   "id": "7b3c0f74",
   "metadata": {},
   "outputs": [],
   "source": [
    "import pandas as pd\n",
    "import numpy as np\n",
    "\n",
    "from sklearn.model_selection import train_test_split, GridSearchCV\n",
    "from sklearn.preprocessing import LabelEncoder, StandardScaler\n",
    "from sklearn.neighbors import KNeighborsClassifier\n",
    "from sklearn.svm import SVC\n",
    "from xgboost import XGBClassifier\n",
    "from imblearn.over_sampling import SMOTE\n",
    "from sklearn.metrics import classification_report"
   ]
  },
  {
   "cell_type": "markdown",
   "id": "data-preparation",
   "metadata": {},
   "source": [
    "## 2. Persiapan Data\n",
    "\n",
    "Tahapan persiapan data meliputi:\n",
    "1. Membaca dataset\n",
    "2. Membersihkan data (menghapus nilai yang hilang, duplikat)\n",
    "3. Menghapus outlier dengan metode IQR\n",
    "4. Menghitung BMI sebagai fitur tambahan\n",
    "5. Encoding variabel kategorikal\n",
    "6. Pemisahan data menjadi training dan testing set\n",
    "7. Normalisasi fitur numerik\n",
    "8. Mengatasi ketidakseimbangan kelas dengan SMOTE"
   ]
  },
  {
   "cell_type": "code",
   "execution_count": 12,
   "id": "7960c4b5",
   "metadata": {},
   "outputs": [],
   "source": [
    "# -------------------------------------------------------------------\n",
    "# 1. Load & clean data (from previous script)\n",
    "# -------------------------------------------------------------------\n",
    "df = pd.read_csv(\"ObesityDataSet.csv\")\n",
    "df.replace(\"?\", np.nan, inplace=True)\n",
    "\n",
    "# Konversi kolom numerik\n",
    "numeric_cols = ['Age','Height','Weight','FCVC','NCP','CH2O','FAF','TUE']\n",
    "for c in numeric_cols:\n",
    "    df[c] = pd.to_numeric(df[c], errors='coerce')\n",
    "\n",
    "# Menghapus duplikat dan nilai yang hilang\n",
    "df.drop_duplicates(inplace=True)\n",
    "df.dropna(inplace=True)\n",
    "\n",
    "# Filter batas yang masuk akal untuk umur, tinggi, dan berat\n",
    "df = df[(df['Age'].between(14,80)) &\n",
    "        (df['Height'].between(1.2,2.2)) &\n",
    "        (df['Weight'].between(30,200))]\n",
    "\n",
    "# Fungsi untuk menghapus outlier dengan metode IQR\n",
    "def remove_iqr(df_in, cols):\n",
    "    \"\"\"Menghapus outlier berdasarkan metode IQR\"\"\"\n",
    "    df_out = df_in.copy()\n",
    "    for c in cols:\n",
    "        q1, q3 = df_out[c].quantile([0.25, 0.75])\n",
    "        iqr = q3 - q1\n",
    "        lb, ub = q1 - 1.5*iqr, q3 + 1.5*iqr\n",
    "        df_out = df_out[df_out[c].between(lb, ub)]\n",
    "    return df_out\n",
    "\n",
    "# Menghapus outlier pada fitur tertentu\n",
    "df = remove_iqr(df, ['FCVC','NCP','CH2O','FAF','TUE'])\n",
    "df.reset_index(drop=True, inplace=True)\n",
    "\n",
    "# Menghitung BMI sebagai fitur tambahan\n",
    "df['BMI'] = df['Weight'] / df['Height']**2\n",
    "\n",
    "# Encoding target variabel\n",
    "le = LabelEncoder()\n",
    "df['NObeyesdad'] = le.fit_transform(df['NObeyesdad'])\n",
    "\n",
    "# Encoding variabel kategorikal dengan one-hot encoding\n",
    "cat_cols = ['Gender','CALC','FAVC','SCC','SMOKE',\n",
    "            'family_history_with_overweight','CAEC','MTRANS']\n",
    "df = pd.get_dummies(df, columns=cat_cols, drop_first=True)\n",
    "\n",
    "# Pemisahan fitur dan target\n",
    "X = df.drop('NObeyesdad', axis=1)\n",
    "y = df['NObeyesdad']\n",
    "\n",
    "# Pemisahan data training dan testing\n",
    "X_train, X_test, y_train, y_test = train_test_split(\n",
    "    X, y, test_size=0.2, random_state=42, stratify=y\n",
    ")\n",
    "\n",
    "# Normalisasi fitur numerik\n",
    "scaler = StandardScaler()\n",
    "num_feats = ['Age','Height','Weight','FCVC','NCP','CH2O','FAF','TUE','BMI']\n",
    "X_train[num_feats] = scaler.fit_transform(X_train[num_feats])\n",
    "X_test[num_feats]  = scaler.transform(X_test[num_feats])\n",
    "\n",
    "# Mengatasi ketidakseimbangan kelas dengan SMOTE\n",
    "sm = SMOTE(random_state=42)\n",
    "X_train_res, y_train_res = sm.fit_resample(X_train, y_train)"
   ]
  },
  {
   "cell_type": "markdown",
   "id": "default-models",
   "metadata": {},
   "source": [
    "## 3. Pembuatan Model Klasifikasi Default\n",
    "\n",
    "Tiga model klasifikasi yang akan digunakan:\n",
    "1. **K-Nearest Neighbors (KNN)**: Model berbasis jarak yang mengklasifikasikan berdasarkan tetangga terdekat\n",
    "2. **Support Vector Machine (SVM)**: Model yang berusaha menemukan hyperplane terbaik untuk memisahkan kelas\n",
    "3. **XGBoost**: Model ensemble berbasis decision tree dengan gradient boosting"
   ]
  },
  {
   "cell_type": "code",
   "execution_count": 13,
   "id": "5eb2574f",
   "metadata": {},
   "outputs": [
    {
     "name": "stderr",
     "output_type": "stream",
     "text": [
      "c:\\Users\\tegar\\AppData\\Local\\Programs\\Python\\Python310\\lib\\site-packages\\xgboost\\core.py:158: UserWarning: [22:03:42] WARNING: C:\\buildkite-agent\\builds\\buildkite-windows-cpu-autoscaling-group-i-08cbc0333d8d4aae1-1\\xgboost\\xgboost-ci-windows\\src\\learner.cc:740: \n",
      "Parameters: { \"use_label_encoder\" } are not used.\n",
      "\n",
      "  warnings.warn(smsg, UserWarning)\n"
     ]
    },
    {
     "name": "stdout",
     "output_type": "stream",
     "text": [
      "=== KNN Default ===\n",
      "              precision    recall  f1-score   support\n",
      "\n",
      "           0       0.75      0.95      0.84        22\n",
      "           1       0.83      0.59      0.69        34\n",
      "           2       0.90      0.88      0.89        42\n",
      "           3       1.00      0.97      0.99        38\n",
      "           4       1.00      1.00      1.00        52\n",
      "           5       0.61      0.79      0.69        29\n",
      "           6       0.75      0.68      0.71        31\n",
      "\n",
      "    accuracy                           0.85       248\n",
      "   macro avg       0.83      0.84      0.83       248\n",
      "weighted avg       0.86      0.85      0.85       248\n",
      "\n"
     ]
    }
   ],
   "source": [
    "# -------------------------------------------------------------------\n",
    "# 2. Define classifiers (default)\n",
    "# -------------------------------------------------------------------\n",
    "# Inisialisasi model dengan parameter default\n",
    "knn_default = KNeighborsClassifier()\n",
    "svm_default = SVC(probability=True, random_state=42)\n",
    "xgb_default = XGBClassifier(use_label_encoder=False, eval_metric='mlogloss', random_state=42)\n",
    "\n",
    "# -------------------------------------------------------------------\n",
    "# 3. Train default models\n",
    "# -------------------------------------------------------------------\n",
    "# Melatih model dengan data yang sudah diseimbangkan\n",
    "knn_default.fit(X_train_res, y_train_res)\n",
    "svm_default.fit(X_train_res, y_train_res)\n",
    "xgb_default.fit(X_train_res, y_train_res)\n",
    "\n",
    "# -------------------------------------------------------------------\n",
    "# 4. Evaluate default models\n",
    "# -------------------------------------------------------------------\n",
    "# Evaluasi performa model default\n",
    "print(\"=== KNN Default ===\")\n",
    "print(classification_report(y_test, knn_default.predict(X_test)))"
   ]
  },
  {
   "cell_type": "code",
   "execution_count": 14,
   "id": "ca7fd766",
   "metadata": {},
   "outputs": [
    {
     "name": "stdout",
     "output_type": "stream",
     "text": [
      "=== SVM Default ===\n",
      "              precision    recall  f1-score   support\n",
      "\n",
      "           0       1.00      0.95      0.98        22\n",
      "           1       0.92      0.97      0.94        34\n",
      "           2       0.98      0.95      0.96        42\n",
      "           3       1.00      0.97      0.99        38\n",
      "           4       1.00      1.00      1.00        52\n",
      "           5       0.87      0.90      0.88        29\n",
      "           6       0.90      0.90      0.90        31\n",
      "\n",
      "    accuracy                           0.96       248\n",
      "   macro avg       0.95      0.95      0.95       248\n",
      "weighted avg       0.96      0.96      0.96       248\n",
      "\n"
     ]
    }
   ],
   "source": [
    "print(\"=== SVM Default ===\")\n",
    "print(classification_report(y_test, svm_default.predict(X_test)))"
   ]
  },
  {
   "cell_type": "code",
   "execution_count": 15,
   "id": "8139a4e7",
   "metadata": {},
   "outputs": [
    {
     "name": "stdout",
     "output_type": "stream",
     "text": [
      "=== XGB Default ===\n",
      "              precision    recall  f1-score   support\n",
      "\n",
      "           0       1.00      1.00      1.00        22\n",
      "           1       1.00      1.00      1.00        34\n",
      "           2       1.00      1.00      1.00        42\n",
      "           3       1.00      1.00      1.00        38\n",
      "           4       1.00      1.00      1.00        52\n",
      "           5       1.00      0.97      0.98        29\n",
      "           6       0.97      1.00      0.98        31\n",
      "\n",
      "    accuracy                           1.00       248\n",
      "   macro avg       1.00      1.00      1.00       248\n",
      "weighted avg       1.00      1.00      1.00       248\n",
      "\n"
     ]
    }
   ],
   "source": [
    "print(\"=== XGB Default ===\")\n",
    "print(classification_report(y_test, xgb_default.predict(X_test)))"
   ]
  },
  {
   "cell_type": "markdown",
   "id": "hyperparameter-tuning",
   "metadata": {},
   "source": [
    "## 4. Hyperparameter Tuning\n",
    "\n",
    "Untuk meningkatkan performa model, kita akan melakukan pencarian parameter optimal menggunakan GridSearchCV dengan validasi silang 5-fold. Parameter yang dioptimalkan untuk masing-masing model:\n",
    "\n",
    "1. **KNN**:\n",
    "   - n_neighbors: Jumlah tetangga terdekat [3, 5, 7, 9]\n",
    "   - weights: Pembobotan [uniform, distance]\n",
    "   - p: Jenis jarak [1 (Manhattan), 2 (Euclidean)]\n",
    "\n",
    "2. **SVM**:\n",
    "   - C: Parameter regularisasi [0.1, 1, 10]\n",
    "   - kernel: Jenis kernel [linear, rbf]\n",
    "   - gamma: Koefisien kernel [scale, auto]\n",
    "\n",
    "3. **XGBoost**:\n",
    "   - n_estimators: Jumlah pohon [50, 100, 200]\n",
    "   - max_depth: Kedalaman maksimum pohon [3, 5, 7]\n",
    "   - learning_rate: Laju pembelajaran [0.01, 0.1, 0.2]"
   ]
  },
  {
   "cell_type": "code",
   "execution_count": 16,
   "id": "50783a09",
   "metadata": {},
   "outputs": [
    {
     "name": "stdout",
     "output_type": "stream",
     "text": [
      "=== KNN Tuned ===\n",
      "              precision    recall  f1-score   support\n",
      "\n",
      "           0       0.96      1.00      0.98        22\n",
      "           1       0.86      0.74      0.79        34\n",
      "           2       0.95      0.95      0.95        42\n",
      "           3       1.00      0.97      0.99        38\n",
      "           4       1.00      1.00      1.00        52\n",
      "           5       0.71      0.86      0.78        29\n",
      "           6       0.87      0.84      0.85        31\n",
      "\n",
      "    accuracy                           0.92       248\n",
      "   macro avg       0.91      0.91      0.91       248\n",
      "weighted avg       0.92      0.92      0.92       248\n",
      "\n",
      "Best KNN params: {'n_neighbors': 3, 'p': 1, 'weights': 'distance'}\n"
     ]
    },
    {
     "name": "stderr",
     "output_type": "stream",
     "text": [
      "c:\\Users\\tegar\\AppData\\Local\\Programs\\Python\\Python310\\lib\\site-packages\\xgboost\\core.py:158: UserWarning: [22:03:52] WARNING: C:\\buildkite-agent\\builds\\buildkite-windows-cpu-autoscaling-group-i-08cbc0333d8d4aae1-1\\xgboost\\xgboost-ci-windows\\src\\learner.cc:740: \n",
      "Parameters: { \"use_label_encoder\" } are not used.\n",
      "\n",
      "  warnings.warn(smsg, UserWarning)\n"
     ]
    }
   ],
   "source": [
    "# -------------------------------------------------------------------\n",
    "# 5. Hyperparameter grids\n",
    "# -------------------------------------------------------------------\n",
    "# Parameter grid untuk KNN\n",
    "param_grid_knn = {\n",
    "    'n_neighbors': [3,5,7,9],        # Jumlah tetangga\n",
    "    'weights': ['uniform','distance'], # Metode pembobotan\n",
    "    'p': [1,2]                       # p=1 Manhattan, p=2 Euclidean\n",
    "}\n",
    "\n",
    "# Parameter grid untuk SVM\n",
    "param_grid_svm = {\n",
    "    'C': [0.1,1,10],               # Parameter regularisasi\n",
    "    'kernel': ['linear','rbf'],    # Jenis kernel\n",
    "    'gamma': ['scale','auto']      # Koefisien kernel\n",
    "}\n",
    "\n",
    "# Parameter grid untuk XGBoost\n",
    "param_grid_xgb = {\n",
    "    'n_estimators': [50,100,200],   # Jumlah pohon\n",
    "    'max_depth': [3,5,7],          # Kedalaman maksimum pohon\n",
    "    'learning_rate': [0.01,0.1,0.2] # Laju pembelajaran\n",
    "}\n",
    "\n",
    "# -------------------------------------------------------------------\n",
    "# 6. GridSearchCV (with 5‑fold CV)\n",
    "# -------------------------------------------------------------------\n",
    "# GridSearchCV untuk KNN\n",
    "gs_knn = GridSearchCV(KNeighborsClassifier(), param_grid_knn,\n",
    "                      cv=5, n_jobs=-1, scoring='f1_weighted')\n",
    "# GridSearchCV untuk SVM\n",
    "gs_svm = GridSearchCV(SVC(probability=True, random_state=42), param_grid_svm,\n",
    "                      cv=5, n_jobs=-1, scoring='f1_weighted')\n",
    "# GridSearchCV untuk XGBoost\n",
    "gs_xgb = GridSearchCV(XGBClassifier(use_label_encoder=False, eval_metric='mlogloss', random_state=42),\n",
    "                      param_grid_xgb, cv=5, n_jobs=-1, scoring='f1_weighted')\n",
    "\n",
    "# -------------------------------------------------------------------\n",
    "# 7. Train tuned models\n",
    "# -------------------------------------------------------------------\n",
    "# Melatih model dengan GridSearchCV\n",
    "gs_knn.fit(X_train_res, y_train_res)\n",
    "gs_svm.fit(X_train_res, y_train_res)\n",
    "gs_xgb.fit(X_train_res, y_train_res)\n",
    "\n",
    "# Mendapatkan model terbaik\n",
    "knn_tuned = gs_knn.best_estimator_\n",
    "svm_tuned = gs_svm.best_estimator_\n",
    "xgb_tuned = gs_xgb.best_estimator_\n",
    "\n",
    "# -------------------------------------------------------------------\n",
    "# 8. Evaluate tuned models\n",
    "# -------------------------------------------------------------------\n",
    "# Evaluasi performa model setelah tuning\n",
    "print(\"=== KNN Tuned ===\")\n",
    "print(classification_report(y_test, knn_tuned.predict(X_test)))\n",
    "print(\"Best KNN params:\", gs_knn.best_params_)\n"
   ]
  },
  {
   "cell_type": "code",
   "execution_count": 17,
   "id": "8ca60337",
   "metadata": {},
   "outputs": [
    {
     "name": "stdout",
     "output_type": "stream",
     "text": [
      "=== SVM Tuned ===\n",
      "              precision    recall  f1-score   support\n",
      "\n",
      "           0       1.00      1.00      1.00        22\n",
      "           1       0.97      0.91      0.94        34\n",
      "           2       0.98      1.00      0.99        42\n",
      "           3       1.00      0.97      0.99        38\n",
      "           4       1.00      1.00      1.00        52\n",
      "           5       0.82      0.97      0.89        29\n",
      "           6       1.00      0.90      0.95        31\n",
      "\n",
      "    accuracy                           0.97       248\n",
      "   macro avg       0.97      0.96      0.96       248\n",
      "weighted avg       0.97      0.97      0.97       248\n",
      "\n",
      "Best SVM params: {'C': 10, 'gamma': 'auto', 'kernel': 'rbf'}\n"
     ]
    }
   ],
   "source": [
    "print(\"=== SVM Tuned ===\")\n",
    "print(classification_report(y_test, svm_tuned.predict(X_test)))\n",
    "print(\"Best SVM params:\", gs_svm.best_params_)"
   ]
  },
  {
   "cell_type": "code",
   "execution_count": 18,
   "id": "ca62681b",
   "metadata": {},
   "outputs": [
    {
     "name": "stdout",
     "output_type": "stream",
     "text": [
      "=== XGB Tuned ===\n",
      "              precision    recall  f1-score   support\n",
      "\n",
      "           0       1.00      1.00      1.00        22\n",
      "           1       1.00      1.00      1.00        34\n",
      "           2       1.00      1.00      1.00        42\n",
      "           3       1.00      1.00      1.00        38\n",
      "           4       1.00      1.00      1.00        52\n",
      "           5       1.00      0.97      0.98        29\n",
      "           6       0.97      1.00      0.98        31\n",
      "\n",
      "    accuracy                           1.00       248\n",
      "   macro avg       1.00      1.00      1.00       248\n",
      "weighted avg       1.00      1.00      1.00       248\n",
      "\n",
      "Best XGB params: {'learning_rate': 0.2, 'max_depth': 3, 'n_estimators': 50}\n"
     ]
    }
   ],
   "source": [
    "print(\"=== XGB Tuned ===\")\n",
    "print(classification_report(y_test, xgb_tuned.predict(X_test)))\n",
    "print(\"Best XGB params:\", gs_xgb.best_params_)"
   ]
  },
  {
   "cell_type": "code",
   "execution_count": 19,
   "id": "40b21ea6",
   "metadata": {},
   "outputs": [
    {
     "data": {
      "image/png": "[encoded data removed]",
      "text/plain": [
       "<Figure size 1800x1000 with 12 Axes>"
      ]
     },
     "metadata": {},
     "output_type": "display_data"
    }
   ],
   "source": [
    "from sklearn.metrics import confusion_matrix\n",
    "import seaborn as sns\n",
    "\n",
    "import matplotlib.pyplot as plt\n",
    "\n",
    "# List of models and their names\n",
    "models = [\n",
    "    ('KNN Default', knn_default),\n",
    "    ('SVM Default', svm_default),\n",
    "    ('XGB Default', xgb_default),\n",
    "    ('KNN Tuned', knn_tuned),\n",
    "    ('SVM Tuned', svm_tuned),\n",
    "    ('XGB Tuned', xgb_tuned)\n",
    "]\n",
    "\n",
    "# Plot confusion matrices\n",
    "fig, axes = plt.subplots(2, 3, figsize=(18, 10))\n",
    "for ax, (name, model) in zip(axes.flatten(), models):\n",
    "    y_pred = model.predict(X_test)\n",
    "    cm = confusion_matrix(y_test, y_pred)\n",
    "    sns.heatmap(cm, annot=True, fmt='d', cmap='Blues', ax=ax)\n",
    "    ax.set_title(name)\n",
    "    ax.set_xlabel('Predicted')\n",
    "    ax.set_ylabel('Actual')\n",
    "\n",
    "plt.tight_layout()\n",
    "plt.show()"
   ]
  },
  {
   "cell_type": "markdown",
   "id": "aed571b6",
   "metadata": {},
   "source": [
    "Kesimpulan\n",
    "\n",
    "Berdasarkan hasil eksperimen pada proyek klasifikasi obesitas ini, dapat disimpulkan bahwa:\n",
    "\n",
    "- **Praproses data** seperti pembersihan, penghapusan outlier, normalisasi, dan penyeimbangan kelas sangat penting untuk meningkatkan performa model.\n",
    "- Tiga model yang diuji (**KNN, SVM, XGBoost**) menunjukkan performa yang baik, terutama setelah dilakukan hyperparameter tuning.\n",
    "- **XGBoost** memberikan akurasi tertinggi baik pada model default maupun setelah tuning, diikuti oleh SVM dan KNN.\n",
    "- Hyperparameter tuning secara signifikan meningkatkan akurasi KNN dan SVM.\n",
    "- Semua model dan pipeline telah disimpan sehingga dapat digunakan kembali untuk prediksi data baru di masa mendatang.\n",
    "\n",
    "Proyek ini menunjukkan bahwa kombinasi praproses data yang baik dan pemilihan model yang tepat dapat menghasilkan prediksi tingkat obesitas yang akurat."
   ]
  },
  {
   "cell_type": "markdown",
   "id": "save-models",
   "metadata": {},
   "source": [
    "## 5. Menyimpan Model dan Informasi Terkait\n",
    "\n",
    "Untuk penggunaan di masa mendatang, kita akan menyimpan:\n",
    "1. Scaler untuk normalisasi data baru\n",
    "2. Model default dan model setelah tuning\n",
    "3. Struktur fitur yang digunakan model\n",
    "4. Label encoder untuk mengubah prediksi numerik ke kategori asli\n",
    "5. Informasi akurasi model\n",
    "6. Informasi dataset"
   ]
  },
  {
   "cell_type": "code",
   "execution_count": 20,
   "id": "421eeed2",
   "metadata": {},
   "outputs": [],
   "source": [
    "import os\n",
    "# Membuat folder 'models' jika belum ada\n",
    "os.makedirs('models', exist_ok=True)"
   ]
  },
  {
   "cell_type": "code",
   "execution_count": 21,
   "id": "1f75e19d",
   "metadata": {},
   "outputs": [
    {
     "data": {
      "text/plain": [
       "['models/label_encoder.pkl']"
      ]
     },
     "execution_count": 21,
     "metadata": {},
     "output_type": "execute_result"
    }
   ],
   "source": [
    "import joblib\n",
    "\n",
    "# Menyimpan scaler untuk normalisasi data baru\n",
    "joblib.dump(scaler, 'models/scaler.pkl')\n",
    "\n",
    "# Menyimpan model - versi default dan tuned\n",
    "joblib.dump(knn_default, 'models/knn_default.pkl')\n",
    "joblib.dump(svm_default, 'models/svm_default.pkl')\n",
    "joblib.dump(xgb_default, 'models/xgb_default.pkl')\n",
    "\n",
    "joblib.dump(knn_tuned, 'models/knn_tuned.pkl')\n",
    "joblib.dump(svm_tuned, 'models/svm_tuned.pkl')\n",
    "joblib.dump(xgb_tuned, 'models/xgb_tuned.pkl')\n",
    "\n",
    "# Menyimpan daftar kolom dalam urutan yang sesuai dengan yang diharapkan model\n",
    "feature_columns = X_train_res.columns.tolist()\n",
    "joblib.dump(feature_columns, 'models/feature_columns.pkl')\n",
    "\n",
    "# Menyimpan label encoder untuk mengkonversi prediksi numerik ke kategori asli\n",
    "joblib.dump(le, 'models/label_encoder.pkl')"
   ]
  },
  {
   "cell_type": "markdown",
   "id": "performance-metrics",
   "metadata": {},
   "source": [
    "## 6. Menyimpan Metrik Kinerja Model\n",
    "\n",
    "Untuk memudahkan perbandingan model dan visualisasi di aplikasi Streamlit, kita akan menyimpan metrik akurasi dari semua model."
   ]
  },
  {
   "cell_type": "code",
   "execution_count": 22,
   "id": "b5f67ded",
   "metadata": {},
   "outputs": [],
   "source": [
    "# Akurasi model sebagai string untuk tampilan Streamlit\n",
    "from sklearn.metrics import accuracy_score\n",
    "\n",
    "# Menghitung dan menyimpan akurasi model default\n",
    "accuracy_default = {\n",
    "    'KNN': accuracy_score(y_test, knn_default.predict(X_test)),\n",
    "    'SVM': accuracy_score(y_test, svm_default.predict(X_test)),\n",
    "    'XGB': accuracy_score(y_test, xgb_default.predict(X_test))\n",
    "}\n",
    "\n",
    "# Menghitung dan menyimpan akurasi model setelah tuning\n",
    "accuracy_tuned = {\n",
    "    'KNN': accuracy_score(y_test, knn_tuned.predict(X_test)),\n",
    "    'SVM': accuracy_score(y_test, svm_tuned.predict(X_test)),\n",
    "    'XGB': accuracy_score(y_test, xgb_tuned.predict(X_test))\n",
    "}\n",
    "\n",
    "# Menyimpan nilai akurasi\n",
    "joblib.dump(accuracy_default, 'models/accuracy_default.pkl')\n",
    "joblib.dump(accuracy_tuned, 'models/accuracy_tuned.pkl')\n",
    "\n",
    "# Menyimpan deskripsi dataset dalam file markdown\n",
    "dataset_info = \"\"\"\n",
    "# Dataset Overview\n",
    "- Dataset contains 2111 samples with 17 columns including Age, Gender, Height, Weight, etc.\n",
    "- Target variable is NObeyesdad, categorizing obesity levels.\n",
    "- Data cleaning included removing duplicates, nulls, outliers in Age, Weight, Height.\n",
    "- Feature engineering included BMI calculation.\n",
    "- Encoding categorical variables and normalization applied.\n",
    "\"\"\"\n",
    "with open('dataset_info.md', 'w') as f:\n",
    "    f.write(dataset_info)\n"
   ]
  },
  {
   "cell_type": "code",
   "execution_count": 23,
   "id": "e2c225ac",
   "metadata": {},
   "outputs": [
    {
     "data": {
      "text/html": [
       "<div>\n",
       "<style scoped>\n",
       "    .dataframe tbody tr th:only-of-type {\n",
       "        vertical-align: middle;\n",
       "    }\n",
       "\n",
       "    .dataframe tbody tr th {\n",
       "        vertical-align: top;\n",
       "    }\n",
       "\n",
       "    .dataframe thead th {\n",
       "        text-align: right;\n",
       "    }\n",
       "</style>\n",
       "<table border=\"1\" class=\"dataframe\">\n",
       "  <thead>\n",
       "    <tr style=\"text-align: right;\">\n",
       "      <th></th>\n",
       "      <th>Model</th>\n",
       "      <th>Akurasi</th>\n",
       "    </tr>\n",
       "  </thead>\n",
       "  <tbody>\n",
       "    <tr>\n",
       "      <th>0</th>\n",
       "      <td>KNN Default</td>\n",
       "      <td>0.850806</td>\n",
       "    </tr>\n",
       "    <tr>\n",
       "      <th>1</th>\n",
       "      <td>SVM Default</td>\n",
       "      <td>0.955645</td>\n",
       "    </tr>\n",
       "    <tr>\n",
       "      <th>2</th>\n",
       "      <td>XGB Default</td>\n",
       "      <td>0.995968</td>\n",
       "    </tr>\n",
       "    <tr>\n",
       "      <th>3</th>\n",
       "      <td>KNN Tuned</td>\n",
       "      <td>0.915323</td>\n",
       "    </tr>\n",
       "    <tr>\n",
       "      <th>4</th>\n",
       "      <td>SVM Tuned</td>\n",
       "      <td>0.967742</td>\n",
       "    </tr>\n",
       "    <tr>\n",
       "      <th>5</th>\n",
       "      <td>XGB Tuned</td>\n",
       "      <td>0.995968</td>\n",
       "    </tr>\n",
       "  </tbody>\n",
       "</table>\n",
       "</div>"
      ],
      "text/plain": [
       "         Model   Akurasi\n",
       "0  KNN Default  0.850806\n",
       "1  SVM Default  0.955645\n",
       "2  XGB Default  0.995968\n",
       "3    KNN Tuned  0.915323\n",
       "4    SVM Tuned  0.967742\n",
       "5    XGB Tuned  0.995968"
      ]
     },
     "execution_count": 23,
     "metadata": {},
     "output_type": "execute_result"
    }
   ],
   "source": [
    "import pandas as pd\n",
    "\n",
    "# Membuat tabel perbandingan akurasi model\n",
    "comparison_df = pd.DataFrame({\n",
    "    'Model': ['KNN Default', 'SVM Default', 'XGB Default', 'KNN Tuned', 'SVM Tuned', 'XGB Tuned'],\n",
    "    'Akurasi': [\n",
    "        accuracy_default['KNN'],\n",
    "        accuracy_default['SVM'],\n",
    "        accuracy_default['XGB'],\n",
    "        accuracy_tuned['KNN'],\n",
    "        accuracy_tuned['SVM'],\n",
    "        accuracy_tuned['XGB'],\n",
    "    ]\n",
    "})\n",
    "\n",
    "# Tampilkan tabel perbandingan\n",
    "comparison_df"
   ]
  },
  {
   "cell_type": "code",
   "execution_count": 24,
   "id": "78f5fdb8",
   "metadata": {},
   "outputs": [
    {
     "data": {
      "text/plain": [
       "{'KNN': 0.9153225806451613,\n",
       " 'SVM': 0.967741935483871,\n",
       " 'XGB': 0.9959677419354839}"
      ]
     },
     "execution_count": 24,
     "metadata": {},
     "output_type": "execute_result"
    }
   ],
   "source": [
    "# Membaca file akurasi model setelah tuning\n",
    "accuracy_tuned_loaded = joblib.load('models/accuracy_tuned.pkl')\n",
    "accuracy_tuned_loaded"
   ]
  }
 ],
 "metadata": {
  "kernelspec": {
   "display_name": "Python 3",
   "language": "python",
   "name": "python3"
  },
  "language_info": {
   "codemirror_mode": {
    "name": "ipython",
    "version": 3
   },
   "file_extension": ".py",
   "mimetype": "text/x-python",
   "name": "python",
   "nbconvert_exporter": "python",
   "pygments_lexer": "ipython3",
   "version": "3.10.11"
  }
 },
 "nbformat": 4,
 "nbformat_minor": 5
}
